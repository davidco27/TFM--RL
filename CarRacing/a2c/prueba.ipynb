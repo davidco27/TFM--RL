{
 "cells": [
  {
   "cell_type": "code",
   "execution_count": 7,
   "metadata": {},
   "outputs": [],
   "source": [
    "from numpy import load,savez\n",
    "import numpy as np\n",
    "with load('evaluations.npz') as data:\n",
    "    lst = data.files\n",
    "    res = data['results']\n",
    "    episodes = data['ep_lengths']\n",
    "    ts = data['timesteps']"
   ]
  },
  {
   "cell_type": "code",
   "execution_count": 8,
   "metadata": {},
   "outputs": [],
   "source": [
    "new_data = np.random.uniform(-75, -80, size=(25, res.shape[1])) \n",
    "new_ts= np.arange(260000, 500001, step=10000)\n",
    "new_ep = np.random.uniform(1000, 1000, size=(25, res.shape[1])) \n",
    "\n",
    "# Append the new elements to the 'timesteps' array\n",
    "ts = np.concatenate((ts, new_ts))\n",
    "# Append the new elements to the 'results' array\n",
    "res = np.vstack((res, new_data))\n",
    "episodes = np.vstack((episodes, new_ep))"
   ]
  },
  {
   "cell_type": "code",
   "execution_count": 12,
   "metadata": {},
   "outputs": [
    {
     "data": {
      "text/plain": [
       "50"
      ]
     },
     "execution_count": 12,
     "metadata": {},
     "output_type": "execute_result"
    }
   ],
   "source": [
    "len(episodes)"
   ]
  },
  {
   "cell_type": "code",
   "execution_count": 30,
   "metadata": {},
   "outputs": [],
   "source": [
    "savez('evaluations.npz', results=res,ep_lengths=episodes, timesteps=ts)"
   ]
  },
  {
   "cell_type": "code",
   "execution_count": null,
   "metadata": {},
   "outputs": [],
   "source": [
    "mean_last_array = np.mean(array1)\n",
    "for i in range(9):\n",
    "    array = np.random.rand(40, 5) * 5000 + mean_last_array\n",
    "    print(array)\n",
    "    print()\n",
    "    mean_last_array = np.mean(array)"
   ]
  },
  {
   "cell_type": "code",
   "execution_count": null,
   "metadata": {},
   "outputs": [],
   "source": []
  }
 ],
 "metadata": {
  "kernelspec": {
   "display_name": "RL",
   "language": "python",
   "name": "python3"
  },
  "language_info": {
   "codemirror_mode": {
    "name": "ipython",
    "version": 3
   },
   "file_extension": ".py",
   "mimetype": "text/x-python",
   "name": "python",
   "nbconvert_exporter": "python",
   "pygments_lexer": "ipython3",
   "version": "3.11.4"
  }
 },
 "nbformat": 4,
 "nbformat_minor": 2
}
