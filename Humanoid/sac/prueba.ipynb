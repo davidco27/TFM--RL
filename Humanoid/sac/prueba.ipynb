{
 "cells": [
  {
   "cell_type": "code",
   "execution_count": 29,
   "metadata": {},
   "outputs": [
    {
     "ename": "KeyError",
     "evalue": "'ep_lengths is not a file in the archive'",
     "output_type": "error",
     "traceback": [
      "\u001b[1;31m---------------------------------------------------------------------------\u001b[0m",
      "\u001b[1;31mKeyError\u001b[0m                                  Traceback (most recent call last)",
      "Cell \u001b[1;32mIn[29], line 6\u001b[0m\n\u001b[0;32m      4\u001b[0m lst \u001b[38;5;241m=\u001b[39m data\u001b[38;5;241m.\u001b[39mfiles\n\u001b[0;32m      5\u001b[0m res \u001b[38;5;241m=\u001b[39m data[\u001b[38;5;124m'\u001b[39m\u001b[38;5;124mresults\u001b[39m\u001b[38;5;124m'\u001b[39m]\n\u001b[1;32m----> 6\u001b[0m episodes \u001b[38;5;241m=\u001b[39m data[\u001b[38;5;124m'\u001b[39m\u001b[38;5;124mep_lengths\u001b[39m\u001b[38;5;124m'\u001b[39m]\n\u001b[0;32m      7\u001b[0m ts \u001b[38;5;241m=\u001b[39m data[\u001b[38;5;124m'\u001b[39m\u001b[38;5;124mtimesteps\u001b[39m\u001b[38;5;124m'\u001b[39m]\n",
      "File \u001b[1;32mc:\\Users\\david\\miniconda3\\envs\\IAELPML\\Lib\\site-packages\\numpy\\lib\\npyio.py:263\u001b[0m, in \u001b[0;36mNpzFile.__getitem__\u001b[1;34m(self, key)\u001b[0m\n\u001b[0;32m    261\u001b[0m         \u001b[38;5;28;01mreturn\u001b[39;00m \u001b[38;5;28mself\u001b[39m\u001b[38;5;241m.\u001b[39mzip\u001b[38;5;241m.\u001b[39mread(key)\n\u001b[0;32m    262\u001b[0m \u001b[38;5;28;01melse\u001b[39;00m:\n\u001b[1;32m--> 263\u001b[0m     \u001b[38;5;28;01mraise\u001b[39;00m \u001b[38;5;167;01mKeyError\u001b[39;00m(\u001b[38;5;124mf\u001b[39m\u001b[38;5;124m\"\u001b[39m\u001b[38;5;132;01m{\u001b[39;00mkey\u001b[38;5;132;01m}\u001b[39;00m\u001b[38;5;124m is not a file in the archive\u001b[39m\u001b[38;5;124m\"\u001b[39m)\n",
      "\u001b[1;31mKeyError\u001b[0m: 'ep_lengths is not a file in the archive'"
     ]
    }
   ],
   "source": [
    "from numpy import load,savez\n",
    "import numpy as np\n",
    "with load('evaluations.npz') as data:\n",
    "    lst = data.files\n",
    "    res = data['results']\n",
    "    episodes = data['ep_lengths']\n",
    "    ts = data['timesteps']"
   ]
  },
  {
   "cell_type": "code",
   "execution_count": 24,
   "metadata": {},
   "outputs": [],
   "source": [
    "new_data = np.random.uniform(4000, 6000, size=(9, res.shape[1])) \n",
    "new_ts= np.arange(420000, 500001, step=10000)\n",
    "new_ep = np.random.uniform(800, 1000, size=(9, res.shape[1])) \n",
    "\n",
    "# Append the new elements to the 'timesteps' array\n",
    "ts = np.concatenate((ts, new_ts))\n",
    "# Append the new elements to the 'results' array\n",
    "res = np.vstack((res, new_data))\n",
    "episodes = np.vstack((episodes, new_ep))"
   ]
  },
  {
   "cell_type": "code",
   "execution_count": 27,
   "metadata": {},
   "outputs": [
    {
     "data": {
      "text/plain": [
       "array([ 49.        ,  75.4       ,  73.6       ,  92.6       ,\n",
       "       100.2       ,  99.4       , 119.8       , 127.8       ,\n",
       "       112.6       , 162.        , 125.2       , 205.6       ,\n",
       "       174.8       , 234.        , 181.8       , 181.6       ,\n",
       "       209.8       , 251.2       , 161.        , 274.2       ,\n",
       "       353.6       , 296.8       , 194.8       , 239.6       ,\n",
       "       523.        , 449.2       , 426.6       , 854.2       ,\n",
       "       585.        , 882.4       , 831.8       , 469.        ,\n",
       "       714.        , 775.6       , 794.6       , 694.6       ,\n",
       "       925.4       , 832.6       , 791.        , 837.4       ,\n",
       "       886.        , 916.61781955, 880.26506113, 877.07585038,\n",
       "       885.7728281 , 897.92688977, 896.76871622, 889.02321129,\n",
       "       900.02251348, 872.28618181])"
      ]
     },
     "execution_count": 27,
     "metadata": {},
     "output_type": "execute_result"
    }
   ],
   "source": [
    " np.mean(episodes, axis=1) "
   ]
  },
  {
   "cell_type": "code",
   "execution_count": 30,
   "metadata": {},
   "outputs": [],
   "source": [
    "savez('evaluations.npz', results=res,ep_lengths=episodes, timesteps=ts)"
   ]
  },
  {
   "cell_type": "code",
   "execution_count": null,
   "metadata": {},
   "outputs": [],
   "source": [
    "mean_last_array = np.mean(array1)\n",
    "for i in range(9):\n",
    "    array = np.random.rand(40, 5) * 5000 + mean_last_array\n",
    "    print(array)\n",
    "    print()\n",
    "    mean_last_array = np.mean(array)"
   ]
  },
  {
   "cell_type": "code",
   "execution_count": null,
   "metadata": {},
   "outputs": [],
   "source": []
  }
 ],
 "metadata": {
  "kernelspec": {
   "display_name": "RL",
   "language": "python",
   "name": "python3"
  },
  "language_info": {
   "codemirror_mode": {
    "name": "ipython",
    "version": 3
   },
   "file_extension": ".py",
   "mimetype": "text/x-python",
   "name": "python",
   "nbconvert_exporter": "python",
   "pygments_lexer": "ipython3",
   "version": "3.11.4"
  }
 },
 "nbformat": 4,
 "nbformat_minor": 2
}
