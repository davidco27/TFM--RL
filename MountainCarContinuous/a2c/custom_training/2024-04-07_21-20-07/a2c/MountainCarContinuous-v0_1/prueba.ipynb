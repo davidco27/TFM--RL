{
 "cells": [
  {
   "cell_type": "code",
   "execution_count": 21,
   "metadata": {},
   "outputs": [],
   "source": [
    "import numpy as np\n",
    "data = np.load(\"evaluations.npz\")\n",
    "rewards = data['results']\n",
    "mean_rewards = np.mean(rewards, axis=1)  # Calculate mean across episodes\n",
    "durations = data['ep_lengths']\n",
    "timesteps = data['timesteps']"
   ]
  },
  {
   "cell_type": "code",
   "execution_count": 22,
   "metadata": {},
   "outputs": [
    {
     "name": "stdout",
     "output_type": "stream",
     "text": [
      "[ 10000  20000  30000  40000  50000  60000  70000  80000  90000 100000\n",
      " 110000 120000 130000 140000 150000]\n",
      "[91.1603706 92.4064688 91.964112  91.6037252 91.759003  92.152036\n",
      " 91.7016878 91.1973782 91.2381078 91.1868798 91.2587754 91.2623426\n",
      " 91.1373486 91.3649102 91.3111166]\n",
      "[[91.054791 91.20235  91.198878 91.053821 91.292013]\n",
      " [92.409403 92.336466 92.754282 92.484859 92.047334]\n",
      " [92.084355 91.974882 91.97604  91.817804 91.967479]\n",
      " [91.691295 91.490382 91.600538 91.410083 91.826328]\n",
      " [91.752052 91.694597 91.850083 91.746114 91.752169]\n",
      " [92.377261 92.099505 92.377261 92.028892 91.877261]\n",
      " [91.780362 91.704627 91.684085 91.414376 91.924989]\n",
      " [91.251388 90.903925 91.100638 91.371151 91.359789]\n",
      " [91.467773 91.355446 91.451672 90.955446 90.960202]\n",
      " [91.331176 91.155088 91.034319 90.862374 91.551442]\n",
      " [91.040895 90.940831 91.41424  91.448794 91.449117]\n",
      " [91.290355 91.199389 91.329353 91.246577 91.246039]\n",
      " [90.913574 90.846385 91.322828 91.287057 91.316899]\n",
      " [91.429285 91.326168 91.429498 91.208106 91.431494]\n",
      " [91.525535 91.446813 91.501579 91.034843 91.046813]]\n"
     ]
    }
   ],
   "source": [
    "print(timesteps)\n",
    "print(mean_rewards)\n",
    "print(rewards)"
   ]
  },
  {
   "cell_type": "code",
   "execution_count": null,
   "metadata": {},
   "outputs": [],
   "source": []
  }
 ],
 "metadata": {
  "kernelspec": {
   "display_name": "IAELPML",
   "language": "python",
   "name": "python3"
  },
  "language_info": {
   "codemirror_mode": {
    "name": "ipython",
    "version": 3
   },
   "file_extension": ".py",
   "mimetype": "text/x-python",
   "name": "python",
   "nbconvert_exporter": "python",
   "pygments_lexer": "ipython3",
   "version": "3.11.4"
  }
 },
 "nbformat": 4,
 "nbformat_minor": 2
}
